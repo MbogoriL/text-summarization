{
  "cells": [
    {
      "cell_type": "markdown",
      "metadata": {
        "id": "view-in-github",
        "colab_type": "text"
      },
      "source": [
        "<a href=\"https://colab.research.google.com/github/MbogoriL/text-summarization/blob/main/Text_Summarization_with_Python_Project.ipynb\" target=\"_parent\"><img src=\"https://colab.research.google.com/assets/colab-badge.svg\" alt=\"Open In Colab\"/></a>"
      ]
    },
    {
      "cell_type": "markdown",
      "metadata": {
        "id": "eF3cTlYmPj-Q"
      },
      "source": [
        "# <font color='#2F4F4F'>AfterWork Data Science: Text Summarization with Python - Project</font>"
      ]
    },
    {
      "cell_type": "markdown",
      "metadata": {
        "id": "kLG2VTrnTvYL"
      },
      "source": [
        "## <font color='#2F4F4F'>Step 1. Business Understading </font>"
      ]
    },
    {
      "cell_type": "markdown",
      "metadata": {
        "id": "XecOwPNorl2W"
      },
      "source": [
        "### a) Specifying the Research Question\n",
        "\n",
        "Build a text summarizer that creates a short and precise summary of a news article. "
      ]
    },
    {
      "cell_type": "markdown",
      "metadata": {
        "id": "J4wfHZwQrs-t"
      },
      "source": [
        "### b) Defining the Metric for Success\n",
        "\n",
        "A text summarizer that creates summaries news articles."
      ]
    },
    {
      "cell_type": "markdown",
      "metadata": {
        "id": "a9BPYqunry97"
      },
      "source": [
        "### c) Understanding the Context \n",
        "\n",
        "International Reuters is an international news organization that provides breaking news and information on the top stories, weather, business, entertainment, politics, and more. In April 2020, internationalreuters.com ranked second place among online global news sites in unique users across the world, according to NetRatings; with an increase of 10% over the previous year.\n",
        "\n",
        "The news agency has recently launched a new version of its website and would like you to create a solution that will automate the process of text summarization as this process is currently a manual process."
      ]
    },
    {
      "cell_type": "markdown",
      "metadata": {
        "id": "7KMRBJ7zr9HD"
      },
      "source": [
        "### d) Recording the Experimental Design\n",
        "\n",
        "* Business Understanding\n",
        "* Data Importation\n",
        "* Data Exploration\n",
        "* Text Preprocessing \n",
        "* Sentence Tokenization\n",
        "* Word Tokenization\n",
        "* Weighted Frequency of Occurence\n",
        "* Summarization\n"
      ]
    },
    {
      "cell_type": "markdown",
      "metadata": {
        "id": "UtwSX1FmVPtw"
      },
      "source": [
        "## <font color='#2F4F4F'>Step 2. Data Importation</font>"
      ]
    },
    {
      "cell_type": "code",
      "execution_count": null,
      "metadata": {
        "colab": {
          "base_uri": "https://localhost:8080/"
        },
        "id": "jdQLGhWqVRTb",
        "outputId": "0c3b7f4b-5c39-44fa-bf78-2cefbc899e27"
      },
      "outputs": [
        {
          "name": "stderr",
          "output_type": "stream",
          "text": [
            "[nltk_data] Downloading package punkt to /root/nltk_data...\n",
            "[nltk_data]   Unzipping tokenizers/punkt.zip.\n",
            "[nltk_data] Downloading package stopwords to /root/nltk_data...\n",
            "[nltk_data]   Unzipping corpora/stopwords.zip.\n"
          ]
        }
      ],
      "source": [
        "# Importing the required libraries\n",
        "# ---\n",
        "# \n",
        "import pandas as pd         # library for data manipulation\n",
        "import seaborn as sns       # library for data visualisation \n",
        "import re                   # library to perform text preprocessing\n",
        "import string               # library to work with strings\n",
        "import nltk                 # library for natural language processing\n",
        "import heapq                # library for queing that will be used for generating our summary\n",
        "nltk.download('punkt')      # nltk package for sentence tokenization\n",
        "nltk.download('stopwords')  # nltk package for stop words\n",
        " \n",
        "# Setting column width setting to max for our dataframes\n",
        "pd.set_option('display.max.columns', None)\n",
        "pd.set_option('display.max_colwidth', None)"
      ]
    },
    {
      "cell_type": "code",
      "execution_count": null,
      "metadata": {
        "colab": {
          "base_uri": "https://localhost:8080/",
          "height": 1000
        },
        "id": "taugd1WVVYBh",
        "outputId": "ab65f703-75c7-4896-cbeb-8f9313e4855c"
      },
      "outputs": [
        {
          "output_type": "execute_result",
          "data": {
            "text/plain": [
              "                                                                                                                                                                                                                                                                                                                                                                                                                                                                                                                                                                                                                                                                                                                                                                                                                                                                                                                                                                                                                                                                                                                                                                                                                                                                                                                                                                                                                                                                                                                                                                                                                                                                                                                                                                                                                                                                                                                                                                                                                                                                                                                                                                                                                                                                                                                                                                                                                                                                                                  Article  \\\n",
              "0  NAGPUR: Australia began their title defence with a six-wicket win against South Africa at the VCA Stadium in Nagpur. It was vice-captain Alex Blackwell and captain Meg Lanning who led the way to chase down 103 easily in the end, after they were reduced to 9 for 3 in the fourth over.South Africa had an excellent launch pad at 69 without loss in 12 overs after opting to bat. Then they fell into a crater courtesy rush of blood, indecision against spin and a number of misguided strokes to huff and puff to 102 for 6. As hard as they tried, defending it was never going to be easy against the masters of the big occasion who are gunning for their fourth successive title.Eventually, the batting meltdown played a big part in the result, as Lanning and Blackwell allayed fears with an unbroken 52-run fifth-wicket stand off just 38 balls to see Australia home with nine balls to spare.South Africa showed they were up for a fight as Dane van Niekerk did the early running by making 45 in a 72-run opening stand with Trisha Chetty, before Australia strangulated them.While Ellyse Perry hustled the batsmen with pace, Lauren Cheatle's canny variations resulted in South Africa's middle order having to manufacture strokes that didn't connect. Chetty's scratchy 34 eventually helped them cross the 100-run mark.Australia's thoughts of the chase being a walk in the park were firmly put on the backburner. Alyssa Healy walked across to flick, only to find her leg stump flattened to give the fired-up Shabnim Ismail an early sniff. Perry bottom-edged a cut to the wicketkeeper, while Ellyse Villani chopped on to leave Australia in tatters before they could reach double figures.Lanning's illness that kept her off the field for most parts of South Africa's innings meant she could come in either after 30 minutes or the fall of the fifth wicket. But the conclusion of Ismail's opening burst took with it the sting in their attack as Blackwell and Jess Jonassen added 44 for the fourth wicket. When Jonassen stepped out to be stumped, the game was back in the balance as Australia slipped to 53 for 4, needing 50 off 47 balls.Lanning struggled to run as she helped herself to three fours to bring the equation down to 23 off the last four overs. Once within striking distance, the feared white-ball striker in her surfaced as she hit Ismail for two fierce square cuts, to convert a tricky chase into a cruise.     \n",
              "1                                             Tokyo: Japan and Iran will start talks next week to negotiate a bilateral investment treaty, as Washington moves to ease sanctions against Tehran and Tokyo looks to step up its interests in the resource rich nation.Japanese and Iranian officials will meet in Tehran from Monday through to Wednesday to secure a deal, Chief Cabinet Secretary Yoshihide Suga said Friday, as other energy consumers also rush to explore Tehran´s commercial potential.\"The aim of these negotiations is to protect the investment activities of Japanese companies,\" Suga told reporters at a regular briefing.When asked how resource-poor Japan would tap Iran´s energy potential, Suga said: \"Keeping those various factors in mind, Japan will take the necessary steps and not be later than other nations.\"The move comes as Washington secures support in Congress for its nuclear deal with Iran, designed to limit its nuclear programme in exchange for the easing of US-led international sanctions.The historic deal was clinched in July after two years of negotiations to address Western concerns that Iran was developing a nuclear bomb -- a claim Iran denies.Japan hopes the lifting of sanctions will lead to increased auto exports to Iran and more Iranian energy imports, although Tokyo officials are bracing themselves for fierce international competition for market access, local media reported. Tokyo, which is heavily dependent on Middle Eastern oil, has maintained friendly relations with Tehran through its years of ostracism, keeping up diplomatic dialogue that many developed countries cut off decades ago.But Tokyo has reduced its Iranian oil imports in recent years under pressure from fellow developed powers backing the US-led sanction regime. There have also been no new Japanese investments in Iran since 1993, according to official data. There were approximately 30 Japanese firms operating in the country as of July last year, data showed.Iran has meanwhile praised Japan´s nuclear technology, even after the 2011 Fukushima crisis, and said more investment in Iran´s atomic sector could boost bilateral relations.Japanese Foreign Minister Fumio Kishida is also expected to visit Iran as early as next month to set up a bilateral committee to discuss energy and infrastructure development and other economic issues, Kyodo News said. \\r\\n\\r\\n\\r\\n\\r\\n\\r\\n\\r\\n\\r\\n\\r\\n\\r\\n\\r\\n\\r\\n   \n",
              "2                                                                                                                                                                                                                                                                                                                                                                                                                                                                                                                                                                                                                                                                                                                                                                                         MELBOURNE -- A year after her finest Grand Slam to date, Madison Keys left this year's Australian Open in tears.Playing on an injured left leg, Keys fell to Zhang Shuai 3-6, 6-3, 6-3 in the fourth round in Melbourne.In the second set, Keys began hobbling noticeably and called for treatment. She was unable to engage in long rallies and grimaced between points.With speculation she might retire, No. 15 Keys returned to the court, but the pain only seemed to increase. Already down a break, Keys doubled-faulted two times in a row, handing her Chinese opponent the set.Keys limped to her changeover chair, understandably frustrated, but this time did not call a trainer.Somehow, she managed to go up an early break at 2-1 in the third on a crushing 91 mph forehand return but was immediately broken back.After a quick hold from Zhang, a qualifier, Keys took another medical timeout. In the next game, she was visibly crying in pain. At that point, Keys could hardly move, lunging at shots just out of her reach.Zhang, 27, ultimately pulled away, ending the match on an overcooked forehand from Keys. The American hobbled off the court, her face in a towel, distraught at the outcome.More than an hour after her three-set loss, Keys gingerly walked to an area adjacent to the women's locker room with the assistance of her publicist.Keys, too injured to make the longer jaunt to the main interview roof, expressed her disappointment.In her last round, Keys strained an abdominal muscle, an injury she said also bothered her against Zhang.Amazingly, the 133rd-ranked Zhang had never advanced past the first round of a major in 14 previous attempts.    \n",
              "3                                                                                                                                                                                                                                                                                                                                                                                                                                                                                                                                                                                                                                                                                                                                                                                                                                                                                                                                                                                                                                                                                                                                                                                                                                                                                                                                                                                                                                                                                                                                                                QUETTA:  A huge reserve of oil and gas has been found in Jandran area of Marri Agency of Balochistan.These gas reserves are said to be much bigger than gas found in Sui Dera Bugti in early1950.Well placed sources confirmed that gas reserve found in Jandran region is much bigger than gas found in Sui Gas reserves from Sui first and followed by two other big reserves at Pir Koh and Loti field. Sui gas was main cause of industrial revolution in Pakistan mainly in Karachi and Central Punjab where gas replaced oil as an energy substitute.The fourth gas reserve was also found in Bugti tribal territory in Uch Mountains and the gas is being used by a private concern producing electricity at the two Uch Power Plants near Dera Murad Jamali in Naseerabad.The electricity produced at Uch Power Plant is sold to WAPDA and transmitted to National Grid in nearby province of Sindh and mainly its upper region.   \n",
              "4                                                                                                                                                                                                                                                                                                                                                    Singapore: Oil prices edged up in Asia Thursday, lifted by bargain-hunting following a sharp decline the day before, although analysts said the market remains hobbled by an oversupply of the commodity.A report released Wednesday showing a bigger-than-expected increase in US crude stockpiles has stoked fresh worries about a global glut that has depressed oil prices for more than a year.US benchmark West Texas Intermediate for delivery in December rose 25 cents to $45.45 and Brent crude for December climbed 21 cents to $48.06 a barrel at around 0300 GMT.The rebound followed Wednesday´s steep fall after the US Energy Information Administration said the country´s commercial crude-oil inventories jumped by eight million barrels to 476.6 million in the week ending October 16.The increase, which typically indicates weaker demand in the world´s number one economy, was more than double market expectations.Oil prices took a hit at the start of the week when China said gross domestic product grew in the third quarter at its slowest pace in more than six years.\"Worries about the health of the Chinese economy continue to batter commodities prices. In the US, crude stockpiles surged ... and supply glut remains a concern,\" said Sanjeev Gupta, who heads the Asia Pacific oil and gas practice at professional services firm EY.Gupta said a meeting between OPEC and non-OPEC oil producers on Wednesday \"did not produce any meaningful results as no potential production cuts were addressed\".Russia had said it was prepared to discuss a reduction with members of the cartel at the meeting in Vienna.Gupta said the market will be looking at a December 4 policy-setting meeting of the Organization of the Petroleum Exporting Countries which is expected to \"provide vital clues about price development in the medium term\".OPEC, which includes Saudi Arabia, Kuwait and the United Arab Emirates, has maintained high production levels despite the oil price decline, as members seek to maintain market share.                        \\r\\n\\r\\n\\r\\n\\r\\n\\r\\n\\r\\n\\r\\n\\r\\n\\r\\n\\r\\n\\r\\n   \n",
              "\n",
              "                                              Heading  NewsType  \n",
              "0  Australia women record easy win over South Africa     sports  \n",
              "1          japan iran to start investment talks next   business  \n",
              "2           Keys falls to Zhang Shuai at Australian O    sports  \n",
              "3              Huge oil gas reserves found in Balochi  business  \n",
              "4                   oil prices edged up after recent   business  "
            ],
            "text/html": [
              "\n",
              "  <div id=\"df-c806eda9-97e5-4e5f-b769-3d5816b2c5e7\">\n",
              "    <div class=\"colab-df-container\">\n",
              "      <div>\n",
              "<style scoped>\n",
              "    .dataframe tbody tr th:only-of-type {\n",
              "        vertical-align: middle;\n",
              "    }\n",
              "\n",
              "    .dataframe tbody tr th {\n",
              "        vertical-align: top;\n",
              "    }\n",
              "\n",
              "    .dataframe thead th {\n",
              "        text-align: right;\n",
              "    }\n",
              "</style>\n",
              "<table border=\"1\" class=\"dataframe\">\n",
              "  <thead>\n",
              "    <tr style=\"text-align: right;\">\n",
              "      <th></th>\n",
              "      <th>Article</th>\n",
              "      <th>Heading</th>\n",
              "      <th>NewsType</th>\n",
              "    </tr>\n",
              "  </thead>\n",
              "  <tbody>\n",
              "    <tr>\n",
              "      <th>0</th>\n",
              "      <td>NAGPUR: Australia began their title defence with a six-wicket win against South Africa at the VCA Stadium in Nagpur. It was vice-captain Alex Blackwell and captain Meg Lanning who led the way to chase down 103 easily in the end, after they were reduced to 9 for 3 in the fourth over.South Africa had an excellent launch pad at 69 without loss in 12 overs after opting to bat. Then they fell into a crater courtesy rush of blood, indecision against spin and a number of misguided strokes to huff and puff to 102 for 6. As hard as they tried, defending it was never going to be easy against the masters of the big occasion who are gunning for their fourth successive title.Eventually, the batting meltdown played a big part in the result, as Lanning and Blackwell allayed fears with an unbroken 52-run fifth-wicket stand off just 38 balls to see Australia home with nine balls to spare.South Africa showed they were up for a fight as Dane van Niekerk did the early running by making 45 in a 72-run opening stand with Trisha Chetty, before Australia strangulated them.While Ellyse Perry hustled the batsmen with pace, Lauren Cheatle's canny variations resulted in South Africa's middle order having to manufacture strokes that didn't connect. Chetty's scratchy 34 eventually helped them cross the 100-run mark.Australia's thoughts of the chase being a walk in the park were firmly put on the backburner. Alyssa Healy walked across to flick, only to find her leg stump flattened to give the fired-up Shabnim Ismail an early sniff. Perry bottom-edged a cut to the wicketkeeper, while Ellyse Villani chopped on to leave Australia in tatters before they could reach double figures.Lanning's illness that kept her off the field for most parts of South Africa's innings meant she could come in either after 30 minutes or the fall of the fifth wicket. But the conclusion of Ismail's opening burst took with it the sting in their attack as Blackwell and Jess Jonassen added 44 for the fourth wicket. When Jonassen stepped out to be stumped, the game was back in the balance as Australia slipped to 53 for 4, needing 50 off 47 balls.Lanning struggled to run as she helped herself to three fours to bring the equation down to 23 off the last four overs. Once within striking distance, the feared white-ball striker in her surfaced as she hit Ismail for two fierce square cuts, to convert a tricky chase into a cruise.</td>\n",
              "      <td>Australia women record easy win over South Africa</td>\n",
              "      <td>sports</td>\n",
              "    </tr>\n",
              "    <tr>\n",
              "      <th>1</th>\n",
              "      <td>Tokyo: Japan and Iran will start talks next week to negotiate a bilateral investment treaty, as Washington moves to ease sanctions against Tehran and Tokyo looks to step up its interests in the resource rich nation.Japanese and Iranian officials will meet in Tehran from Monday through to Wednesday to secure a deal, Chief Cabinet Secretary Yoshihide Suga said Friday, as other energy consumers also rush to explore Tehran´s commercial potential.\"The aim of these negotiations is to protect the investment activities of Japanese companies,\" Suga told reporters at a regular briefing.When asked how resource-poor Japan would tap Iran´s energy potential, Suga said: \"Keeping those various factors in mind, Japan will take the necessary steps and not be later than other nations.\"The move comes as Washington secures support in Congress for its nuclear deal with Iran, designed to limit its nuclear programme in exchange for the easing of US-led international sanctions.The historic deal was clinched in July after two years of negotiations to address Western concerns that Iran was developing a nuclear bomb -- a claim Iran denies.Japan hopes the lifting of sanctions will lead to increased auto exports to Iran and more Iranian energy imports, although Tokyo officials are bracing themselves for fierce international competition for market access, local media reported. Tokyo, which is heavily dependent on Middle Eastern oil, has maintained friendly relations with Tehran through its years of ostracism, keeping up diplomatic dialogue that many developed countries cut off decades ago.But Tokyo has reduced its Iranian oil imports in recent years under pressure from fellow developed powers backing the US-led sanction regime. There have also been no new Japanese investments in Iran since 1993, according to official data. There were approximately 30 Japanese firms operating in the country as of July last year, data showed.Iran has meanwhile praised Japan´s nuclear technology, even after the 2011 Fukushima crisis, and said more investment in Iran´s atomic sector could boost bilateral relations.Japanese Foreign Minister Fumio Kishida is also expected to visit Iran as early as next month to set up a bilateral committee to discuss energy and infrastructure development and other economic issues, Kyodo News said. \\r\\n\\r\\n\\r\\n\\r\\n\\r\\n\\r\\n\\r\\n\\r\\n\\r\\n\\r\\n\\r\\n</td>\n",
              "      <td>japan iran to start investment talks next</td>\n",
              "      <td>business</td>\n",
              "    </tr>\n",
              "    <tr>\n",
              "      <th>2</th>\n",
              "      <td>MELBOURNE -- A year after her finest Grand Slam to date, Madison Keys left this year's Australian Open in tears.Playing on an injured left leg, Keys fell to Zhang Shuai 3-6, 6-3, 6-3 in the fourth round in Melbourne.In the second set, Keys began hobbling noticeably and called for treatment. She was unable to engage in long rallies and grimaced between points.With speculation she might retire, No. 15 Keys returned to the court, but the pain only seemed to increase. Already down a break, Keys doubled-faulted two times in a row, handing her Chinese opponent the set.Keys limped to her changeover chair, understandably frustrated, but this time did not call a trainer.Somehow, she managed to go up an early break at 2-1 in the third on a crushing 91 mph forehand return but was immediately broken back.After a quick hold from Zhang, a qualifier, Keys took another medical timeout. In the next game, she was visibly crying in pain. At that point, Keys could hardly move, lunging at shots just out of her reach.Zhang, 27, ultimately pulled away, ending the match on an overcooked forehand from Keys. The American hobbled off the court, her face in a towel, distraught at the outcome.More than an hour after her three-set loss, Keys gingerly walked to an area adjacent to the women's locker room with the assistance of her publicist.Keys, too injured to make the longer jaunt to the main interview roof, expressed her disappointment.In her last round, Keys strained an abdominal muscle, an injury she said also bothered her against Zhang.Amazingly, the 133rd-ranked Zhang had never advanced past the first round of a major in 14 previous attempts.</td>\n",
              "      <td>Keys falls to Zhang Shuai at Australian O</td>\n",
              "      <td>sports</td>\n",
              "    </tr>\n",
              "    <tr>\n",
              "      <th>3</th>\n",
              "      <td>QUETTA:  A huge reserve of oil and gas has been found in Jandran area of Marri Agency of Balochistan.These gas reserves are said to be much bigger than gas found in Sui Dera Bugti in early1950.Well placed sources confirmed that gas reserve found in Jandran region is much bigger than gas found in Sui Gas reserves from Sui first and followed by two other big reserves at Pir Koh and Loti field. Sui gas was main cause of industrial revolution in Pakistan mainly in Karachi and Central Punjab where gas replaced oil as an energy substitute.The fourth gas reserve was also found in Bugti tribal territory in Uch Mountains and the gas is being used by a private concern producing electricity at the two Uch Power Plants near Dera Murad Jamali in Naseerabad.The electricity produced at Uch Power Plant is sold to WAPDA and transmitted to National Grid in nearby province of Sindh and mainly its upper region.</td>\n",
              "      <td>Huge oil gas reserves found in Balochi</td>\n",
              "      <td>business</td>\n",
              "    </tr>\n",
              "    <tr>\n",
              "      <th>4</th>\n",
              "      <td>Singapore: Oil prices edged up in Asia Thursday, lifted by bargain-hunting following a sharp decline the day before, although analysts said the market remains hobbled by an oversupply of the commodity.A report released Wednesday showing a bigger-than-expected increase in US crude stockpiles has stoked fresh worries about a global glut that has depressed oil prices for more than a year.US benchmark West Texas Intermediate for delivery in December rose 25 cents to $45.45 and Brent crude for December climbed 21 cents to $48.06 a barrel at around 0300 GMT.The rebound followed Wednesday´s steep fall after the US Energy Information Administration said the country´s commercial crude-oil inventories jumped by eight million barrels to 476.6 million in the week ending October 16.The increase, which typically indicates weaker demand in the world´s number one economy, was more than double market expectations.Oil prices took a hit at the start of the week when China said gross domestic product grew in the third quarter at its slowest pace in more than six years.\"Worries about the health of the Chinese economy continue to batter commodities prices. In the US, crude stockpiles surged ... and supply glut remains a concern,\" said Sanjeev Gupta, who heads the Asia Pacific oil and gas practice at professional services firm EY.Gupta said a meeting between OPEC and non-OPEC oil producers on Wednesday \"did not produce any meaningful results as no potential production cuts were addressed\".Russia had said it was prepared to discuss a reduction with members of the cartel at the meeting in Vienna.Gupta said the market will be looking at a December 4 policy-setting meeting of the Organization of the Petroleum Exporting Countries which is expected to \"provide vital clues about price development in the medium term\".OPEC, which includes Saudi Arabia, Kuwait and the United Arab Emirates, has maintained high production levels despite the oil price decline, as members seek to maintain market share.                        \\r\\n\\r\\n\\r\\n\\r\\n\\r\\n\\r\\n\\r\\n\\r\\n\\r\\n\\r\\n\\r\\n</td>\n",
              "      <td>oil prices edged up after recent</td>\n",
              "      <td>business</td>\n",
              "    </tr>\n",
              "  </tbody>\n",
              "</table>\n",
              "</div>\n",
              "      <button class=\"colab-df-convert\" onclick=\"convertToInteractive('df-c806eda9-97e5-4e5f-b769-3d5816b2c5e7')\"\n",
              "              title=\"Convert this dataframe to an interactive table.\"\n",
              "              style=\"display:none;\">\n",
              "        \n",
              "  <svg xmlns=\"http://www.w3.org/2000/svg\" height=\"24px\"viewBox=\"0 0 24 24\"\n",
              "       width=\"24px\">\n",
              "    <path d=\"M0 0h24v24H0V0z\" fill=\"none\"/>\n",
              "    <path d=\"M18.56 5.44l.94 2.06.94-2.06 2.06-.94-2.06-.94-.94-2.06-.94 2.06-2.06.94zm-11 1L8.5 8.5l.94-2.06 2.06-.94-2.06-.94L8.5 2.5l-.94 2.06-2.06.94zm10 10l.94 2.06.94-2.06 2.06-.94-2.06-.94-.94-2.06-.94 2.06-2.06.94z\"/><path d=\"M17.41 7.96l-1.37-1.37c-.4-.4-.92-.59-1.43-.59-.52 0-1.04.2-1.43.59L10.3 9.45l-7.72 7.72c-.78.78-.78 2.05 0 2.83L4 21.41c.39.39.9.59 1.41.59.51 0 1.02-.2 1.41-.59l7.78-7.78 2.81-2.81c.8-.78.8-2.07 0-2.86zM5.41 20L4 18.59l7.72-7.72 1.47 1.35L5.41 20z\"/>\n",
              "  </svg>\n",
              "      </button>\n",
              "      \n",
              "  <style>\n",
              "    .colab-df-container {\n",
              "      display:flex;\n",
              "      flex-wrap:wrap;\n",
              "      gap: 12px;\n",
              "    }\n",
              "\n",
              "    .colab-df-convert {\n",
              "      background-color: #E8F0FE;\n",
              "      border: none;\n",
              "      border-radius: 50%;\n",
              "      cursor: pointer;\n",
              "      display: none;\n",
              "      fill: #1967D2;\n",
              "      height: 32px;\n",
              "      padding: 0 0 0 0;\n",
              "      width: 32px;\n",
              "    }\n",
              "\n",
              "    .colab-df-convert:hover {\n",
              "      background-color: #E2EBFA;\n",
              "      box-shadow: 0px 1px 2px rgba(60, 64, 67, 0.3), 0px 1px 3px 1px rgba(60, 64, 67, 0.15);\n",
              "      fill: #174EA6;\n",
              "    }\n",
              "\n",
              "    [theme=dark] .colab-df-convert {\n",
              "      background-color: #3B4455;\n",
              "      fill: #D2E3FC;\n",
              "    }\n",
              "\n",
              "    [theme=dark] .colab-df-convert:hover {\n",
              "      background-color: #434B5C;\n",
              "      box-shadow: 0px 1px 3px 1px rgba(0, 0, 0, 0.15);\n",
              "      filter: drop-shadow(0px 1px 2px rgba(0, 0, 0, 0.3));\n",
              "      fill: #FFFFFF;\n",
              "    }\n",
              "  </style>\n",
              "\n",
              "      <script>\n",
              "        const buttonEl =\n",
              "          document.querySelector('#df-c806eda9-97e5-4e5f-b769-3d5816b2c5e7 button.colab-df-convert');\n",
              "        buttonEl.style.display =\n",
              "          google.colab.kernel.accessAllowed ? 'block' : 'none';\n",
              "\n",
              "        async function convertToInteractive(key) {\n",
              "          const element = document.querySelector('#df-c806eda9-97e5-4e5f-b769-3d5816b2c5e7');\n",
              "          const dataTable =\n",
              "            await google.colab.kernel.invokeFunction('convertToInteractive',\n",
              "                                                     [key], {});\n",
              "          if (!dataTable) return;\n",
              "\n",
              "          const docLinkHtml = 'Like what you see? Visit the ' +\n",
              "            '<a target=\"_blank\" href=https://colab.research.google.com/notebooks/data_table.ipynb>data table notebook</a>'\n",
              "            + ' to learn more about interactive tables.';\n",
              "          element.innerHTML = '';\n",
              "          dataTable['output_type'] = 'display_data';\n",
              "          await google.colab.output.renderOutput(dataTable, element);\n",
              "          const docLink = document.createElement('div');\n",
              "          docLink.innerHTML = docLinkHtml;\n",
              "          element.appendChild(docLink);\n",
              "        }\n",
              "      </script>\n",
              "    </div>\n",
              "  </div>\n",
              "  "
            ]
          },
          "metadata": {},
          "execution_count": 31
        }
      ],
      "source": [
        "# Loading and previewing the dataset\n",
        "\n",
        "article_text = pd.read_csv('https://bit.ly/3hDN4vt')\n",
        "article_text.head()"
      ]
    },
    {
      "cell_type": "markdown",
      "metadata": {
        "id": "JKiQBwQuVd9k"
      },
      "source": [
        "## <font color='#2F4F4F'>Step 3. Data Exploration</font>"
      ]
    },
    {
      "cell_type": "code",
      "execution_count": null,
      "metadata": {
        "colab": {
          "base_uri": "https://localhost:8080/"
        },
        "id": "rKMZcfxGVo3m",
        "outputId": "b22a98e5-88e3-4a35-e2e9-9f748ce6055e"
      },
      "outputs": [
        {
          "output_type": "execute_result",
          "data": {
            "text/plain": [
              "(5, 3)"
            ]
          },
          "metadata": {},
          "execution_count": 32
        }
      ],
      "source": [
        "# check dataset shape\n",
        "article_text.shape"
      ]
    },
    {
      "cell_type": "markdown",
      "metadata": {
        "id": "k8s9wj4_Vo3r"
      },
      "source": [
        "Our dataset has 5 records and 3 variables."
      ]
    },
    {
      "cell_type": "code",
      "execution_count": null,
      "metadata": {
        "colab": {
          "base_uri": "https://localhost:8080/"
        },
        "id": "ov8nTc9cVo3t",
        "outputId": "a5c74e66-5d86-4938-e129-5036b2ea4e04"
      },
      "outputs": [
        {
          "output_type": "execute_result",
          "data": {
            "text/plain": [
              "Article     object\n",
              "Heading     object\n",
              "NewsType    object\n",
              "dtype: object"
            ]
          },
          "metadata": {},
          "execution_count": 33
        }
      ],
      "source": [
        "# preview variable datatypes\n",
        "article_text.dtypes"
      ]
    },
    {
      "cell_type": "markdown",
      "metadata": {
        "id": "COOwPNRPVo3w"
      },
      "source": [
        "Both variables have the data type object. This is fine for the text variable, however for the label, we will need to convert it to a numerical format. We will do this later."
      ]
    },
    {
      "cell_type": "code",
      "execution_count": null,
      "metadata": {
        "colab": {
          "base_uri": "https://localhost:8080/",
          "height": 387
        },
        "id": "iE7Ik7ox85g6",
        "outputId": "bd255168-8453-4f20-9dcc-3df013bc6a95"
      },
      "outputs": [
        {
          "output_type": "execute_result",
          "data": {
            "text/plain": [
              "<seaborn.axisgrid.FacetGrid at 0x7f21b4364090>"
            ]
          },
          "metadata": {},
          "execution_count": 34
        },
        {
          "output_type": "display_data",
          "data": {
            "text/plain": [
              "<Figure size 360x360 with 1 Axes>"
            ],
            "image/png": "[encoded data removed]"
          },
          "metadata": {
            "needs_background": "light"
          }
        }
      ],
      "source": [
        "# plotting the distribution of label\n",
        "# ---\n",
        "#\n",
        "sns.displot(article_text, x='NewsType', discrete =True)"
      ]
    },
    {
      "cell_type": "code",
      "execution_count": null,
      "metadata": {
        "colab": {
          "base_uri": "https://localhost:8080/"
        },
        "id": "Hv9z0csQX5C9",
        "outputId": "c5eb8e79-7d7b-4881-b2af-1a98afaba737"
      },
      "outputs": [
        {
          "output_type": "execute_result",
          "data": {
            "text/plain": [
              "business    0.6\n",
              "sports      0.4\n",
              "Name: NewsType, dtype: float64"
            ]
          },
          "metadata": {},
          "execution_count": 35
        }
      ],
      "source": [
        "# investigating the label distribution\n",
        "article_text['NewsType'].value_counts(normalize=True)"
      ]
    },
    {
      "cell_type": "code",
      "execution_count": null,
      "metadata": {
        "colab": {
          "base_uri": "https://localhost:8080/"
        },
        "id": "iLde07_NVo3w",
        "outputId": "c9f9adcc-9813-4ab8-9eab-f6c975fa0e26"
      },
      "outputs": [
        {
          "output_type": "execute_result",
          "data": {
            "text/plain": [
              "0"
            ]
          },
          "metadata": {},
          "execution_count": 36
        }
      ],
      "source": [
        "# check for duplicates\n",
        "sum(article_text.duplicated())"
      ]
    },
    {
      "cell_type": "markdown",
      "metadata": {
        "id": "eY9eV5l6V_Xv"
      },
      "source": [
        "There are no duplicates"
      ]
    },
    {
      "cell_type": "code",
      "execution_count": null,
      "metadata": {
        "colab": {
          "base_uri": "https://localhost:8080/"
        },
        "id": "dQLb6TqVVo3z",
        "outputId": "53468ff1-55cf-424c-d3e8-ce89d7af016f"
      },
      "outputs": [
        {
          "data": {
            "text/plain": [
              "Article     0\n",
              "Heading     0\n",
              "NewsType    0\n",
              "dtype: int64"
            ]
          },
          "execution_count": 21,
          "metadata": {},
          "output_type": "execute_result"
        }
      ],
      "source": [
        "# check for missing values\n",
        "article_text.isnull().sum()"
      ]
    },
    {
      "cell_type": "markdown",
      "metadata": {
        "id": "npaYUA7bVo33"
      },
      "source": [
        "No missing values found. "
      ]
    },
    {
      "cell_type": "code",
      "execution_count": null,
      "metadata": {
        "colab": {
          "base_uri": "https://localhost:8080/"
        },
        "id": "P0IQmdGugKGF",
        "outputId": "395ec1f1-53bd-4886-ba56-f0ed44b3689a"
      },
      "outputs": [
        {
          "data": {
            "text/plain": [
              "array(['sports', 'business'], dtype=object)"
            ]
          },
          "execution_count": 22,
          "metadata": {},
          "output_type": "execute_result"
        }
      ],
      "source": [
        "# What values are in our label variable?\n",
        "\n",
        "article_text['NewsType'].unique()"
      ]
    },
    {
      "cell_type": "markdown",
      "metadata": {
        "id": "iUNbvIvnT7ep"
      },
      "source": [
        "## <font color='#2F4F4F'>Step 4. Text Preprocessing</font>"
      ]
    },
    {
      "cell_type": "code",
      "execution_count": null,
      "metadata": {
        "id": "ATi3KYKuWtJ5"
      },
      "outputs": [],
      "source": [
        "# The first step that will do is to prepare our text for further analysis.\n",
        "# We will create custom function that will help us with this task.\n",
        "# ---\n",
        "#\n",
        "def text_preprocessing(text):\n",
        "    \n",
        "    # removing square brackets\n",
        "    text = re.sub(r'\\[[0-9]*\\]', ' ', text)\n",
        "\n",
        "    # removing extra spaces\n",
        "    text = re.sub(r'\\s+', ' ', text)\n",
        "\n",
        "    return text"
      ]
    },
    {
      "cell_type": "markdown",
      "metadata": {
        "id": "7DfcfGbJzmjb"
      },
      "source": [
        "## <font color='#2F4F4F'>Step 5. Sentence Tokenization</font>"
      ]
    },
    {
      "cell_type": "code",
      "execution_count": null,
      "metadata": {
        "id": "BFFU-x1Wzmjd"
      },
      "outputs": [],
      "source": [
        "# We will now create a function that will perform sentence \n",
        "# tokenization i.e. breaking down the original text into sentences.\n",
        "# ---\n",
        "def tokenize_sentences(text):\n",
        "    return nltk.sent_tokenize(text)"
      ]
    },
    {
      "cell_type": "markdown",
      "metadata": {
        "id": "MhSd2y20znQo"
      },
      "source": [
        "## <font color='#2F4F4F'>Step 6. Word Tokenization</font>"
      ]
    },
    {
      "cell_type": "code",
      "execution_count": null,
      "metadata": {
        "id": "7yG1z82TznQp"
      },
      "outputs": [],
      "source": [
        "# We create a function to perform word tokenization \n",
        "# i.e. breaking down our sentences into words.\n",
        "\n",
        "def tokenize_words(formatted_text):\n",
        "    return nltk.word_tokenize(formatted_text)"
      ]
    },
    {
      "cell_type": "markdown",
      "metadata": {
        "id": "4kGRdhq8z6xR"
      },
      "source": [
        "## <font color='#2F4F4F'>Step 7. Weighted Frequency of Occurrence</font>"
      ]
    },
    {
      "cell_type": "code",
      "execution_count": null,
      "metadata": {
        "id": "DAxQmEiVz6xS"
      },
      "outputs": [],
      "source": [
        "# We create a function to determine word frequencies.\n",
        "# This will be the first step towards determining \n",
        "# weighted frequencies as shown in the in the \n",
        "# weighted frequencies function in the next code cell.\n",
        "\n",
        "def word_frequencies(formatted_text):\n",
        "    stop_words = nltk.corpus.stopwords.words('english')\n",
        "    word_freq = dict()\n",
        "    \n",
        "    # We loop through the tokenized words to check if they are stop words\n",
        "    # determining their frequencies.  \n",
        "    # ---\n",
        "    # \n",
        "    for word in tokenize_words(formatted_text):\n",
        "        if word not in stop_words:\n",
        "            if word not in word_freq.keys():\n",
        "                word_freq[word] = 1\n",
        "            else:\n",
        "                word_freq[word] += 1\n",
        "                \n",
        "    return word_freq"
      ]
    },
    {
      "cell_type": "code",
      "execution_count": null,
      "metadata": {
        "id": "Uat5EGAV0Xgt"
      },
      "outputs": [],
      "source": [
        "# We then create a function to determine weighted frequencies of our words. \n",
        "# This will help us determine the frequency of each important word found \n",
        "# in the sentence. \n",
        "# ---\n",
        "# To find the weighted frequency of each word, we divide the number of occurances \n",
        "# of all the words by the frequency of the most occurring word.\n",
        "# ---\n",
        "\n",
        "def weighted_frequencies(formatted_text):\n",
        "    \n",
        "    word_freq = word_frequencies(formatted_text)\n",
        "    maximum_frequency = max(word_freq.values())\n",
        "    \n",
        "    weighted_freq = dict()\n",
        "    \n",
        "    for word in word_freq.keys():\n",
        "        weighted_freq[word] = (word_freq[word]/maximum_frequency)\n",
        "        \n",
        "    return weighted_freq"
      ]
    },
    {
      "cell_type": "code",
      "execution_count": null,
      "metadata": {
        "id": "hZPRuspT0ZHw"
      },
      "outputs": [],
      "source": [
        "# Upon calculating the weighted frequencies for all the words, \n",
        "# we now calculate the scores for each sentence by adding weighted \n",
        "# frequencies of the words that occur in that particular sentence.\n",
        "# The following code will create a dictionary of sentences with scores.\n",
        "# ---\n",
        "# In the process, we will also calculate the score for only \n",
        "# sentences with less than 30 words.\n",
        "# ---\n",
        "def sentence_scores(formatted_text):\n",
        "    weighted_freq = weighted_frequencies(formatted_text)\n",
        "    tokenized_sentences = tokenize_sentences(formatted_text)\n",
        "    \n",
        "    sentence_scores_table = dict()\n",
        "    \n",
        "    for sentence in tokenized_sentences:\n",
        "        if sentence not in sentence_scores_table.keys():\n",
        "            sentence_scores_table[sentence] = 0\n",
        "        for word in nltk.word_tokenize(sentence):\n",
        "            if word in weighted_freq.keys():\n",
        "                if len(sentence.split(' ')) < 30:\n",
        "                    sentence_scores_table[sentence] += weighted_freq[word]\n",
        "                \n",
        "    return sentence_scores_table"
      ]
    },
    {
      "cell_type": "markdown",
      "metadata": {
        "id": "SZ7W3Iue0Eme"
      },
      "source": [
        "## <font color='#2F4F4F'>Step 8. Summarization</font>"
      ]
    },
    {
      "cell_type": "code",
      "execution_count": null,
      "metadata": {
        "id": "UB3wLPm40Emf"
      },
      "outputs": [],
      "source": [
        "# To summarize the text, we can take top N sentences with the highest scores. \n",
        "# The following code will execute the retrieve the top 5 sentences and print them.\n",
        "# ---\n",
        "#\n",
        "def summarize(text):\n",
        "\n",
        "    # performing text processing\n",
        "    formatted_text = text_preprocessing(text)\n",
        "\n",
        "    # assigning scores to our sentences\n",
        "    sentence_scores_dict = sentence_scores(formatted_text)\n",
        "    \n",
        "    # getting 5 sentences with highest scores\n",
        "    summary_sentences = heapq.nlargest(5, sentence_scores_dict, key=sentence_scores_dict.get)\n",
        "\n",
        "    # print(\"summary sentences\", summary_sentences)\n",
        "    \n",
        "    # joining our sentences\n",
        "    summary = \" \".join(summary_sentences)\n",
        "    \n",
        "    # printing our summary\n",
        "    print(summary)"
      ]
    },
    {
      "cell_type": "markdown",
      "metadata": {
        "id": "jA28XDA03Q9-"
      },
      "source": [
        "### <font color='#2F4F4F'>Findings and Recommendations</font>"
      ]
    },
    {
      "cell_type": "code",
      "execution_count": 66,
      "metadata": {
        "id": "PUORbtNZc7vo",
        "colab": {
          "base_uri": "https://localhost:8080/"
        },
        "outputId": "1d8d00c6-2e36-4092-e074-1ebdb6bd1d39"
      },
      "outputs": [
        {
          "output_type": "stream",
          "name": "stdout",
          "text": [
            "At that point, Keys could hardly move, lunging at shots just out of her reach.Zhang, 27, ultimately pulled away, ending the match on an overcooked forehand from Keys. Once within striking distance, the feared white-ball striker in her surfaced as she hit Ismail for two fierce square cuts, to convert a tricky chase into a cruise. There have also been no new Japanese investments in Iran since 1993, according to official data. Alyssa Healy walked across to flick, only to find her leg stump flattened to give the fired-up Shabnim Ismail an early sniff. 15 Keys returned to the court, but the pain only seemed to increase.\n"
          ]
        }
      ],
      "source": [
        "# Printing out our summaries\n",
        "articles = article_text['Article']\n",
        "string_article = str(articles)\n",
        "\n",
        "summarize(string_article)"
      ]
    },
    {
      "cell_type": "markdown",
      "metadata": {
        "id": "qI23jTyh5XDU"
      },
      "source": [
        "### <font color='#2F4F4F'>Challenging our Solution</font>"
      ]
    },
    {
      "cell_type": "markdown",
      "metadata": {
        "id": "H6HR28mq6mg5"
      },
      "source": [
        "### a) Did we have the right question?\n",
        "\n",
        "Yes we had the correct question"
      ]
    },
    {
      "cell_type": "markdown",
      "metadata": {
        "id": "cYxDL80GT7KT"
      },
      "source": [
        "### b) Did we have the right data?\n",
        "Yes the data around articles is appropriate \n"
      ]
    },
    {
      "cell_type": "markdown",
      "metadata": {
        "id": "n9G5XaZ2T8q6"
      },
      "source": [
        "### c) What can be done to improve the solution?\n",
        "\n"
      ]
    }
  ],
  "metadata": {
    "colab": {
      "collapsed_sections": [
        "kLG2VTrnTvYL",
        "XecOwPNorl2W",
        "J4wfHZwQrs-t",
        "a9BPYqunry97",
        "7KMRBJ7zr9HD",
        "UtwSX1FmVPtw",
        "JKiQBwQuVd9k",
        "iUNbvIvnT7ep",
        "7DfcfGbJzmjb",
        "MhSd2y20znQo",
        "4kGRdhq8z6xR",
        "SZ7W3Iue0Eme",
        "jA28XDA03Q9-",
        "qI23jTyh5XDU",
        "H6HR28mq6mg5",
        "cYxDL80GT7KT",
        "n9G5XaZ2T8q6"
      ],
      "name": "Text Summarization with Python Project",
      "provenance": [],
      "toc_visible": true,
      "include_colab_link": true
    },
    "kernelspec": {
      "display_name": "Python 3",
      "name": "python3"
    }
  },
  "nbformat": 4,
  "nbformat_minor": 0
}